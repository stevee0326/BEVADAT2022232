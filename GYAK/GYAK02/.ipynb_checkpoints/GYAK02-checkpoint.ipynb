{
 "cells": [
  {
   "cell_type": "code",
   "execution_count": 27,
   "metadata": {},
   "outputs": [],
   "source": [
    "import numpy as np"
   ]
  },
  {
   "cell_type": "code",
   "execution_count": 53,
   "metadata": {},
   "outputs": [],
   "source": [
    "#create_array((2,2))\n",
    "a = set_one(create_array((2,2)))\n",
    "b = do_transpose(a)\n",
    "\n",
    "a4 = np.array([0.1223, 0.1675])\n",
    "round_array(a4)\n",
    "a5 = np.array([[1, 0, 0], [1, 1, 1],[0, 0, 0]])\n"
   ]
  },
  {
   "cell_type": "code",
   "execution_count": 54,
   "metadata": {},
   "outputs": [
    {
     "data": {
      "text/plain": [
       "array([[1, 0, 0],\n",
       "       [1, 1, 1],\n",
       "       [0, 0, 0]])"
      ]
     },
     "execution_count": 54,
     "metadata": {},
     "output_type": "execute_result"
    }
   ],
   "source": [
    "a5"
   ]
  },
  {
   "cell_type": "code",
   "execution_count": 48,
   "metadata": {},
   "outputs": [
    {
     "data": {
      "text/plain": [
       "(array([[1., 0.],\n",
       "        [0., 1.]]),\n",
       " array([[1., 0.],\n",
       "        [0., 1.]]))"
      ]
     },
     "execution_count": 48,
     "metadata": {},
     "output_type": "execute_result"
    }
   ],
   "source": [
    "a,b"
   ]
  },
  {
   "cell_type": "code",
   "execution_count": 29,
   "metadata": {},
   "outputs": [],
   "source": [
    "#Készíts egy függvényt ami létre hoz egy nullákkal teli numpy array-t.\n",
    "#Paraméterei: mérete (tuple-ként), default mérete pedig legyen egy (2,2)\n",
    "#Be: (2,2)\n",
    "#Ki: [[0,0],[0,0]]\n",
    "#create_array()"
   ]
  },
  {
   "cell_type": "code",
   "execution_count": 30,
   "metadata": {},
   "outputs": [],
   "source": [
    "def create_array(tp : np.array) -> np.array:\n",
    "    return np.zeros(tp)\n",
    "    "
   ]
  },
  {
   "cell_type": "code",
   "execution_count": 31,
   "metadata": {},
   "outputs": [],
   "source": [
    "#Készíts egy függvényt ami a paraméterként kapott array-t főátlóját feltölti egyesekkel\n",
    "#Be: [[1,2],[3,4]]\n",
    "#Ki: [[1,2],[3,1]]\n",
    "#set_one()"
   ]
  },
  {
   "cell_type": "code",
   "execution_count": 32,
   "metadata": {},
   "outputs": [],
   "source": [
    "def set_one(input_array : np.array)-> np.array:\n",
    "    np.fill_diagonal(input_array,1)\n",
    "    return input_array"
   ]
  },
  {
   "cell_type": "code",
   "execution_count": 33,
   "metadata": {},
   "outputs": [],
   "source": [
    "# Készíts egy függvényt ami transzponálja a paraméterül kapott mártix-ot:\n",
    "# Be: [[1, 2], [3, 4]]\n",
    "# Ki: [[1, 2], [3, 4]]\n",
    "# do_transpose()"
   ]
  },
  {
   "cell_type": "code",
   "execution_count": 34,
   "metadata": {},
   "outputs": [],
   "source": [
    "def do_transpose(input_array: np.array)->np.array:\n",
    "    return np.transpose(input_array)"
   ]
  },
  {
   "cell_type": "code",
   "execution_count": 35,
   "metadata": {},
   "outputs": [],
   "source": [
    "# Készíts egy olyan függvényt ami az array-ben lévő értékeket N tizenedjegyik kerekíti, ha nincs megadva ez a paraméter, akkor legyen az alapértelmezett a kettő \n",
    "# Be: [0.1223, 0.1675], 2\n",
    "# Ki: [0.12, 0.17]\n",
    "# round_array()"
   ]
  },
  {
   "cell_type": "code",
   "execution_count": 49,
   "metadata": {},
   "outputs": [],
   "source": [
    "def round_array(input_array : np.array) -> np.array:\n",
    "    return input_array.round(2)\n",
    "    "
   ]
  },
  {
   "cell_type": "code",
   "execution_count": 36,
   "metadata": {},
   "outputs": [],
   "source": [
    "# Készíts egy olyan függvényt, ami a bementként kapott 0 és 1 ből álló tömben a 0 - False-ra, az 1 True-ra cserélni\n",
    "# Be: [[1, 0, 0], [1, 1, 1],[0, 0, 0]]\n",
    "# Ki: [[ True False False], [ True  True  True], [False False False]]\n",
    "# bool_array()"
   ]
  },
  {
   "cell_type": "code",
   "execution_count": null,
   "metadata": {},
   "outputs": [],
   "source": [
    "def bool_array(input_array : np.array) -> np.array:\n",
    "    return input_array.astype(dtype=bool)"
   ]
  },
  {
   "cell_type": "code",
   "execution_count": 37,
   "metadata": {},
   "outputs": [],
   "source": [
    "# Készíts egy olyan függvényt, ami a bementként kapott 0 és 1 ből álló tömben a 1 - False-ra az 0 True-ra cserélni\n",
    "# Be: [[1, 0, 0], [1, 1, 1],[0, 0, 0]]\n",
    "# Ki: [[ True False False], [ True  True  True], [False False False]]\n",
    "# invert_bool_array()"
   ]
  },
  {
   "cell_type": "code",
   "execution_count": null,
   "metadata": {},
   "outputs": [],
   "source": []
  },
  {
   "cell_type": "code",
   "execution_count": 38,
   "metadata": {},
   "outputs": [],
   "source": [
    "# Készíts egy olyan függvényt ami a paraméterként kapott array-t kilapítja\n",
    "# Be: [[1,2], [3,4]]\n",
    "# Ki: [1,2,3,4]\n",
    "# flatten()"
   ]
  },
  {
   "cell_type": "code",
   "execution_count": null,
   "metadata": {},
   "outputs": [],
   "source": []
  }
 ],
 "metadata": {
  "kernelspec": {
   "display_name": "Python 3 (ipykernel)",
   "language": "python",
   "name": "python3"
  },
  "language_info": {
   "codemirror_mode": {
    "name": "ipython",
    "version": 3
   },
   "file_extension": ".py",
   "mimetype": "text/x-python",
   "name": "python",
   "nbconvert_exporter": "python",
   "pygments_lexer": "ipython3",
   "version": "3.9.16"
  }
 },
 "nbformat": 4,
 "nbformat_minor": 2
}
