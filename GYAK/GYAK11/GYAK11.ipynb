{
 "cells": [
  {
   "cell_type": "markdown",
   "metadata": {},
   "source": [
    "<figure style=\"text-align:center;\">\n",
    "    <img src='https://stanford.edu/~shervine/teaching/cs-230/illustrations/architecture-cnn-en.jpeg?3b7fccd728e29dc619e1bd8022bf71cf' alt='conv_archi'/>\n",
    "    <figcaption>Convolution architeture</figcaption>\n",
    "</figure>"
   ]
  },
  {
   "cell_type": "markdown",
   "metadata": {},
   "source": [
    "<figure style=\"text-align:center;\">\n",
    "    <img src='https://stanford.edu/~shervine/teaching/cs-230/illustrations/convolution-layer-a.png?1c517e00cb8d709baf32fc3d39ebae67' alt='conv_steps'/>\n",
    "    <figcaption>Convolution steps</figcaption>\n",
    "</figure>"
   ]
  },
  {
   "cell_type": "markdown",
   "metadata": {},
   "source": [
    "<figure style=\"text-align:center;\">\n",
    "    <img src='https://external-content.duckduckgo.com/iu/?u=http%3A%2F%2Fmedia5.datahacker.rs%2F2018%2F11%2Fsl_1.png&f=1&nofb=1&ipt=c3b8023c63b32c2415aa5c012aa6844ace80ceb2227491138f876a98a2970c12&ipo=images' alt='same_padding'/>\n",
    "    <figcaption>Padding \"same\"</figcaption>\n",
    "</figure>"
   ]
  },
  {
   "cell_type": "markdown",
   "metadata": {},
   "source": [
    "<figure style=\"text-align:center;\">\n",
    "    <img src='https://external-content.duckduckgo.com/iu/?u=https%3A%2F%2Fharishnarayanan.org%2Fimages%2Fwriting%2Fartistic-style-transfer%2Fconv-layer.gif&f=1&nofb=1&ipt=28e17960f28895ddc6fbed415086fde4e45e446f35cc4c9a3941d9ba801bc9ea&ipo=images' alt='kernles_2'/>\n",
    "    <figcaption>Kernels</figcaption>\n",
    "</figure>"
   ]
  },
  {
   "cell_type": "markdown",
   "metadata": {},
   "source": [
    "<figure style=\"text-align:center;\">\n",
    "    <img src='https://stanford.edu/~shervine/teaching/cs-230/illustrations/dimensions-filter-en.png?7ce161e129a392a1804a231536b59f45' alt='kernels'/>\n",
    "    <figcaption>Kernels</figcaption>\n",
    "</figure>"
   ]
  },
  {
   "cell_type": "markdown",
   "metadata": {},
   "source": [
    "<figure style=\"text-align:center;\">\n",
    "    <img src='https://stanford.edu/~shervine/teaching/cs-230/illustrations/stride.png?36b5b2e02f7e02c3c4075a9d836c048c' alt='stride'/>\n",
    "    <figcaption>Stride</figcaption>\n",
    "</figure>"
   ]
  },
  {
   "cell_type": "markdown",
   "metadata": {},
   "source": [
    "<figure style=\"text-align:center;\">\n",
    "    <img src='https://stanford.edu/~shervine/teaching/cs-230/illustrations/padding-valid-a.png?1f58d78612f6202ce201620919d71609' alt='padding'/>\n",
    "    <figcaption>Padding</figcaption>\n",
    "</figure>"
   ]
  },
  {
   "cell_type": "markdown",
   "metadata": {},
   "source": [
    "<figure style=\"text-align:center;\">\n",
    "    <img src='https://stanford.edu/~shervine/teaching/cs-230/illustrations/max-pooling-a.png?711b14799d07f9306864695e2713ae07' alt='pooling'/>\n",
    "    <figcaption>Max pooling</figcaption>\n",
    "</figure>"
   ]
  },
  {
   "cell_type": "markdown",
   "metadata": {},
   "source": [
    "<figure style=\"text-align:center;\">\n",
    "    <img src='https://external-content.duckduckgo.com/iu/?u=https%3A%2F%2Ftse2.mm.bing.net%2Fth%3Fid%3DOIP.XTqD1NfrY9HPj9rLEtXm2AHaFP%26pid%3DApi&f=1&ipt=54b81cc15356134beac1e7fced18485fd4c79c7b6a69be8c5ca3e55265d9ec81&ipo=images' alt='pooling'/>\n",
    "    <figcaption>Max pooling</figcaption>\n",
    "</figure>"
   ]
  },
  {
   "cell_type": "markdown",
   "metadata": {},
   "source": [
    "Conv visualizer: [here](https://ezyang.github.io/convolution-visualizer/index.html) </br>\n",
    "Conv explainer: [here](https://poloclub.github.io/cnn-explainer/)<br>\n",
    "Conv nets:  [here](https://stanford.edu/~shervine/teaching/cs-230/cheatsheet-convolutional-neural-networks)<br>\n",
    "conv net [here](https://deepai.org/machine-learning-glossary-and-terms/convolutional-neural-network)<br>\n",
    "pooling [here](https://deeplizard.com/resource/pavq7noze3)<br>\n",
    "pooling [here](https://deepai.org/machine-learning-glossary-and-terms/max-pooling)<br>\n",
    "pooling [here](https://www.baeldung.com/cs/neural-networks-pooling-layers)<br>\n",
    "pooling [here](https://iq.opengenus.org/pooling-layers/)<br>"
   ]
  },
  {
   "cell_type": "code",
   "execution_count": 12,
   "metadata": {},
   "outputs": [
    {
     "name": "stdout",
     "output_type": "stream",
     "text": [
      "Bemeneti kép:\n",
      "[[0 0 0 1 1]\n",
      " [0 0 0 1 0]\n",
      " [0 1 0 1 0]\n",
      " [0 1 0 1 0]\n",
      " [1 0 0 1 0]]\n",
      "Kernel:\n",
      "[[1. 1. 0.]\n",
      " [1. 0. 0.]\n",
      " [0. 1. 1.]]\n",
      "Kimeneti kép:\n",
      "[[1. 1. 2.]\n",
      " [1. 2. 2.]\n",
      " [1. 3. 2.]]\n"
     ]
    }
   ],
   "source": [
    "import numpy as np\n",
    "\n",
    "# Hozz létre egy bemeneti \"képet\" (numpy array-t)  (5x5)\n",
    "# Az értékei legyenek 0 vagy 1\n",
    "# dtype legyen np.float32\n",
    "input_image = np.random.randint(0, 2, size=(5, 5))\n",
    "#input_image\n",
    "\n",
    "\n",
    "# Hozz létre egy kernelt (numpy array-t)(3x3)\n",
    "# Az értékei legyenek 0 vagy 1\n",
    "# dtype legyen np.float32\n",
    "kernel = np.random.randint(0, 2, size=(3, 3)).astype(np.float32)\n",
    "#kernel\n",
    "\n",
    "# Mentsd el két külön változóba a létrehozott \"kép\" (5x5)\n",
    "# dimenzióinak méretét (height,width)\n",
    "height, width = input_image.shape\n",
    "\n",
    "# Mentsd el két külön változóba a létrehozott kernel (3x3)\n",
    "# dimenzióinak méretét (height,width)\n",
    "kernel_height, kernel_width = kernel.shape\n",
    "\n",
    "# Számold ki a kimeneti \"kép\" dimenzióinak a méretét\n",
    "# Padding = 0, Stride = 1\n",
    "# A magasságot és szélességet két külön változóba mentsd el\n",
    "# NOTE: használt az előbb kiszámold \"kép\" és kernel szélességet és magasságot\n",
    "output_height = height - kernel_height + 1\n",
    "output_width = width - kernel_width + 1\n",
    "\n",
    "\n",
    "# Hozz létre egy az előbb kiszámolt kimeneti \"kép\"\n",
    "# dimenziójával megegyező 0-kal feltöltött numpy array-t\n",
    "output_image = np.zeros((output_height, output_width))\n",
    "\n",
    "\n",
    "# Hajts végre konvolúciót a bemeneti \"képen\"\n",
    "# az eredményt az előbb létrehozott kimeneti \"képbe\" mentsd el\n",
    "# NOTE: a kimeneti \"kép\" 1 db pixel értéke a bemeneti kép n darab értékének összegéből jön létre (n = amennyi nem 0 érték van a kernelben)\n",
    "for i in range(output_height):\n",
    "    for j in range(output_width):\n",
    "        output_image[i, j] = np.sum(input_image[i:i+kernel_height, j:j+kernel_width] * kernel)\n",
    "\n",
    "\n",
    "\n",
    "\n",
    "# printeld ki a bemeneti \"képet\", kernelt és a végeredményül kapott \"képet\"\n",
    "\n",
    "\n",
    "\n",
    "# Ellenőrizd le, hogy tényleg jó működik a kódod (nem kell semmit írni, csak a printelt értékeket ellenőrizd le)\n",
    "print(\"Bemeneti kép:\")\n",
    "print(input_image)\n",
    "\n",
    "print(\"Kernel:\")\n",
    "print(kernel)\n",
    "\n",
    "print(\"Kimeneti kép:\")\n",
    "print(output_image)"
   ]
  },
  {
   "cell_type": "code",
   "execution_count": 13,
   "metadata": {},
   "outputs": [
    {
     "name": "stdout",
     "output_type": "stream",
     "text": [
      "Downloading data from https://storage.googleapis.com/tensorflow/tf-keras-datasets/mnist.npz\n",
      "11490434/11490434 [==============================] - 1s 0us/step\n"
     ]
    }
   ],
   "source": [
    "import tensorflow as tf\n",
    "import matplotlib.pyplot as plt\n",
    "import numpy as np \n",
    "\n",
    "(train_images, train_labels), (test_images, test_labels) = tf.keras.datasets.mnist.load_data()\n",
    "train_images, test_images = train_images, test_images "
   ]
  },
  {
   "cell_type": "code",
   "execution_count": null,
   "metadata": {},
   "outputs": [],
   "source": [
    "class ConvolutionLayer:\n",
    "    def __init__(self, kernel_num, kernel_size):\n",
    "        self.kernel_num = kernel_num\n",
    "        self.kernel_size = kernel_size        \n",
    "        self.kernels = np.random.randn(kernel_num, kernel_size, kernel_size) / (kernel_size**2)\n",
    "\n",
    "    def patches_generator(self, image):\n",
    "        image_h, image_w = image.shape\n",
    "        patches = []\n",
    "        for h in range(image_h-self.kernel_size+1):\n",
    "            for w in range(image_w-self.kernel_size+1):\n",
    "                patch =  #indexelj ki egy kernelnyi mátrixot a bemeneti képből\n",
    "                patches.append((patch, h, w))\n",
    "        return patches\n",
    "    \n",
    "    def forward(self, image):\n",
    "        image_h, image_w = image.shape\n",
    "        convolution_output = np.zeros((image_h-self.kernel_size+1, image_w-self.kernel_size+1, self.kernel_num))\n",
    "        for patch, h, w in self.patches_generator(image):\n",
    "            convolution_output[h,w] =       #Végezd el a konvolúciós lépést\n",
    "        return convolution_output,self.kernels"
   ]
  },
  {
   "cell_type": "code",
   "execution_count": null,
   "metadata": {},
   "outputs": [],
   "source": [
    "def plot_convolution_output(convolution_output, kernels, title=None):\n",
    "    nrows, ncols = 2, (convolution_output.shape[-1] + 1) // 2\n",
    "\n",
    "    fig, axes = plt.subplots(nrows=nrows, ncols=ncols*2, figsize=(15, 6))\n",
    "\n",
    "    for i in range(nrows):\n",
    "        for j in range(ncols):\n",
    "            idx = i * ncols + j\n",
    "            if idx < convolution_output.shape[-1]:\n",
    "                # Plot the kernel\n",
    "                axes[i, j * 2].imshow(kernels[idx], cmap='viridis')\n",
    "                axes[i, j * 2].set_xticks([])\n",
    "                axes[i, j * 2].set_yticks([])\n",
    "                axes[i, j * 2].set_title(f'Kernel {idx + 1}')\n",
    "\n",
    "                # Plot the corresponding convolution output\n",
    "                axes[i, j * 2 + 1].imshow(convolution_output[:, :, idx], cmap='viridis')\n",
    "                axes[i, j * 2 + 1].set_xticks([])\n",
    "                axes[i, j * 2 + 1].set_yticks([])\n",
    "                axes[i, j * 2 + 1].set_title(f'Conv Output {idx + 1}')\n",
    "            else:\n",
    "                axes[i, j * 2].axis('off')\n",
    "                axes[i, j * 2 + 1].axis('off')\n",
    "\n",
    "    if title:\n",
    "        fig.suptitle(title)\n",
    "\n",
    "    plt.show()"
   ]
  },
  {
   "cell_type": "code",
   "execution_count": null,
   "metadata": {},
   "outputs": [],
   "source": [
    "n = 5\n",
    "kernel_num = 6\n",
    "kernel_size = 3\n",
    "\n",
    "conv = ConvolutionLayer(kernel_num=kernel_num,kernel_size=kernel_size)\n",
    "\n",
    "for index in range(n):\n",
    "    plt.imshow(train_images[index])\n",
    "    features,kernels = conv.forward(train_images[index])\n",
    "    plot_convolution_output(features,kernels)"
   ]
  }
 ],
 "metadata": {
  "kernelspec": {
   "display_name": "Python 3 (ipykernel)",
   "language": "python",
   "name": "python3"
  },
  "language_info": {
   "codemirror_mode": {
    "name": "ipython",
    "version": 3
   },
   "file_extension": ".py",
   "mimetype": "text/x-python",
   "name": "python",
   "nbconvert_exporter": "python",
   "pygments_lexer": "ipython3",
   "version": "3.9.16"
  }
 },
 "nbformat": 4,
 "nbformat_minor": 2
}
